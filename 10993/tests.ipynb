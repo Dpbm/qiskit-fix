{
 "cells": [
  {
   "cell_type": "code",
   "execution_count": null,
   "id": "22d07a08-6f15-4508-8034-2f3654752d50",
   "metadata": {},
   "outputs": [],
   "source": [
    "!python3 --version"
   ]
  },
  {
   "cell_type": "code",
   "execution_count": null,
   "id": "5ac6dd26-2b7c-45be-989e-880794c6754b",
   "metadata": {},
   "outputs": [],
   "source": [
    "import qiskit.tools.jupyter\n",
    "%qiskit_version_table"
   ]
  },
  {
   "cell_type": "code",
   "execution_count": null,
   "id": "4f7b5e59-5f16-420b-be11-a163d05fa44a",
   "metadata": {},
   "outputs": [],
   "source": [
    "from qiskit_ibm_runtime import QiskitRuntimeService, Sampler, Estimator, Session, Options\n",
    "from dotenv import load_dotenv\n",
    "import os\n",
    "load_dotenv()"
   ]
  },
  {
   "cell_type": "code",
   "execution_count": null,
   "id": "ab0de0ca-d8f5-49b6-87a2-091f3a8bd2a9",
   "metadata": {},
   "outputs": [],
   "source": [
    "service = QiskitRuntimeService(channel=\"ibm_quantum\", token=os.getenv('QISKIT_IBM_TOKEN'))"
   ]
  },
  {
   "cell_type": "code",
   "execution_count": null,
   "id": "f6a57410-7eed-443b-a7ca-be0d49cb754a",
   "metadata": {},
   "outputs": [],
   "source": [
    "backend = service.get_backend('ibm_brisbane')"
   ]
  },
  {
   "cell_type": "code",
   "execution_count": null,
   "id": "9eac2feb-8c7a-40c9-9ec0-6a2bd043d665",
   "metadata": {},
   "outputs": [],
   "source": [
    "calibrations = backend.defaults().instruction_schedule_map\n",
    "calibrations"
   ]
  },
  {
   "cell_type": "code",
   "execution_count": null,
   "id": "592a9cd4-fd9c-412e-9b46-e73dd4a386fc",
   "metadata": {},
   "outputs": [],
   "source": [
    "gate_schedule = calibrations.get('measure', (0))\n",
    "gate_schedule"
   ]
  },
  {
   "cell_type": "code",
   "execution_count": null,
   "id": "461f14af-bb97-4310-bbfa-45f30b2293c9",
   "metadata": {},
   "outputs": [],
   "source": [
    "backend._configuration.__dict__"
   ]
  },
  {
   "cell_type": "code",
   "execution_count": null,
   "id": "f240dab9-a174-4c4b-8574-931feaa02265",
   "metadata": {},
   "outputs": [],
   "source": [
    "backend._configuration.backend_name"
   ]
  },
  {
   "cell_type": "code",
   "execution_count": null,
   "id": "247c314e-84f3-42bc-bc7c-7e4ea4270e4b",
   "metadata": {},
   "outputs": [],
   "source": [
    "backend.name()"
   ]
  },
  {
   "cell_type": "code",
   "execution_count": null,
   "id": "7909dc47-ae55-4dd4-96d1-b0f5904b9d87",
   "metadata": {},
   "outputs": [],
   "source": [
    "#backend.name = lambda name=backend.name: name\n",
    "gate_schedule.draw(backend=backend)"
   ]
  },
  {
   "cell_type": "code",
   "execution_count": null,
   "id": "c53f5aef-34e4-450b-8293-cd0103fc1d4d",
   "metadata": {},
   "outputs": [],
   "source": [
    "from qiskit_aer import AerSimulator"
   ]
  },
  {
   "cell_type": "code",
   "execution_count": null,
   "id": "415d56f6-6105-4a4f-b326-f745e06e4685",
   "metadata": {},
   "outputs": [],
   "source": [
    "backend_aer = AerSimulator()\n",
    "backend_aer.name()"
   ]
  },
  {
   "cell_type": "code",
   "execution_count": null,
   "id": "89c4f2b9-0477-49cb-9d2c-771073701c5e",
   "metadata": {},
   "outputs": [],
   "source": [
    "backend_aer.name"
   ]
  },
  {
   "cell_type": "markdown",
   "id": "e41bd444-a9a2-4cb4-9b4a-a3e9b4b442a3",
   "metadata": {},
   "source": [
    "---"
   ]
  },
  {
   "cell_type": "code",
   "execution_count": null,
   "id": "bdb3dfff-c269-4076-829b-779ec2f06c1e",
   "metadata": {},
   "outputs": [],
   "source": [
    "service.backends()"
   ]
  },
  {
   "cell_type": "code",
   "execution_count": null,
   "id": "51fd8899-3299-4df3-9d36-75de963f6726",
   "metadata": {},
   "outputs": [],
   "source": [
    "backend = service.get_backend('ibm_brisbane')\n",
    "backend"
   ]
  },
  {
   "cell_type": "code",
   "execution_count": null,
   "id": "252178d1-c4eb-4c0c-b20f-f3963ae9a25a",
   "metadata": {},
   "outputs": [],
   "source": [
    "backend.name"
   ]
  },
  {
   "cell_type": "code",
   "execution_count": null,
   "id": "c16520b4-c01c-4e26-9531-a0677c050517",
   "metadata": {},
   "outputs": [],
   "source": [
    "dir(backend)"
   ]
  },
  {
   "cell_type": "code",
   "execution_count": null,
   "id": "e21591a7-3fb5-4f07-a792-bd09ad815f2d",
   "metadata": {},
   "outputs": [],
   "source": [
    "backend.name54321()"
   ]
  },
  {
   "cell_type": "code",
   "execution_count": null,
   "id": "38b3162f-a8f6-4ac0-8ca7-c561c252fe04",
   "metadata": {},
   "outputs": [],
   "source": [
    "qiskit.__file__"
   ]
  }
 ],
 "metadata": {
  "kernelspec": {
   "display_name": "Python 3 (ipykernel)",
   "language": "python",
   "name": "python3"
  },
  "language_info": {
   "codemirror_mode": {
    "name": "ipython",
    "version": 3
   },
   "file_extension": ".py",
   "mimetype": "text/x-python",
   "name": "python",
   "nbconvert_exporter": "python",
   "pygments_lexer": "ipython3",
   "version": "3.10.8"
  }
 },
 "nbformat": 4,
 "nbformat_minor": 5
}
