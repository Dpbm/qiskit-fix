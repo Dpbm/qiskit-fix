{
 "cells": [
  {
   "cell_type": "code",
   "execution_count": null,
   "id": "22d07a08-6f15-4508-8034-2f3654752d50",
   "metadata": {},
   "outputs": [],
   "source": [
    "!python3 --version"
   ]
  },
  {
   "cell_type": "code",
   "execution_count": null,
   "id": "5ac6dd26-2b7c-45be-989e-880794c6754b",
   "metadata": {},
   "outputs": [],
   "source": [
    "import qiskit.tools.jupyter\n",
    "%qiskit_version_table"
   ]
  },
  {
   "cell_type": "code",
   "execution_count": null,
   "id": "4f7b5e59-5f16-420b-be11-a163d05fa44a",
   "metadata": {},
   "outputs": [],
   "source": [
    "from qiskit_ibm_runtime import QiskitRuntimeService, Sampler, Estimator, Session, Options\n",
    "from dotenv import load_dotenv\n",
    "import os\n",
    "load_dotenv()"
   ]
  },
  {
   "cell_type": "code",
   "execution_count": null,
   "id": "ab0de0ca-d8f5-49b6-87a2-091f3a8bd2a9",
   "metadata": {},
   "outputs": [],
   "source": [
    "service = QiskitRuntimeService(channel=\"ibm_quantum\", token=os.getenv('QISKIT_IBM_TOKEN'))"
   ]
  },
  {
   "cell_type": "code",
   "execution_count": null,
   "id": "f6a57410-7eed-443b-a7ca-be0d49cb754a",
   "metadata": {},
   "outputs": [],
   "source": [
    "backend = service.get_backend('ibm_brisbane')"
   ]
  },
  {
   "cell_type": "code",
   "execution_count": null,
   "id": "9eac2feb-8c7a-40c9-9ec0-6a2bd043d665",
   "metadata": {},
   "outputs": [],
   "source": [
    "calibrations = backend.defaults().instruction_schedule_map\n",
    "calibrations"
   ]
  },
  {
   "cell_type": "code",
   "execution_count": null,
   "id": "592a9cd4-fd9c-412e-9b46-e73dd4a386fc",
   "metadata": {},
   "outputs": [],
   "source": [
    "gate_schedule = calibrations.get('measure', (0))\n",
    "gate_schedule"
   ]
  },
  {
   "cell_type": "code",
   "execution_count": null,
   "id": "461f14af-bb97-4310-bbfa-45f30b2293c9",
   "metadata": {},
   "outputs": [],
   "source": [
    "backend._configuration.__dict__"
   ]
  },
  {
   "cell_type": "code",
   "execution_count": null,
   "id": "f240dab9-a174-4c4b-8574-931feaa02265",
   "metadata": {},
   "outputs": [],
   "source": [
    "backend._configuration.backend_name"
   ]
  },
  {
   "cell_type": "code",
   "execution_count": null,
   "id": "7891612f-8180-480c-8e7a-37c0e972cb05",
   "metadata": {},
   "outputs": [],
   "source": [
    "dir(backend.target)"
   ]
  },
  {
   "cell_type": "code",
   "execution_count": null,
   "id": "247c314e-84f3-42bc-bc7c-7e4ea4270e4b",
   "metadata": {},
   "outputs": [],
   "source": [
    "backend.name()"
   ]
  },
  {
   "cell_type": "code",
   "execution_count": null,
   "id": "66c7a0d8-4e38-4c55-9ca1-58a5bb80a486",
   "metadata": {},
   "outputs": [],
   "source": [
    "'dt' in backend.target"
   ]
  },
  {
   "cell_type": "code",
   "execution_count": null,
   "id": "2cdee3f2-90b1-469d-ae5e-d473b543c6cc",
   "metadata": {},
   "outputs": [],
   "source": [
    "dir(backend.target)"
   ]
  },
  {
   "cell_type": "code",
   "execution_count": null,
   "id": "7909dc47-ae55-4dd4-96d1-b0f5904b9d87",
   "metadata": {},
   "outputs": [],
   "source": [
    "#backend.name = lambda name=backend.name: name\n",
    "gate_schedule.draw(backend=backend)"
   ]
  },
  {
   "cell_type": "code",
   "execution_count": null,
   "id": "c53f5aef-34e4-450b-8293-cd0103fc1d4d",
   "metadata": {},
   "outputs": [],
   "source": [
    "from qiskit_aer import AerSimulator"
   ]
  },
  {
   "cell_type": "code",
   "execution_count": null,
   "id": "415d56f6-6105-4a4f-b326-f745e06e4685",
   "metadata": {},
   "outputs": [],
   "source": [
    "backend_aer = AerSimulator()\n",
    "backend_aer.name()"
   ]
  },
  {
   "cell_type": "code",
   "execution_count": null,
   "id": "2bebe112-77e8-4efb-957c-8d76c1f10d94",
   "metadata": {},
   "outputs": [],
   "source": [
    "backend_aer.configuration().backend_name"
   ]
  },
  {
   "cell_type": "code",
   "execution_count": null,
   "id": "89c4f2b9-0477-49cb-9d2c-771073701c5e",
   "metadata": {},
   "outputs": [],
   "source": [
    "backend_aer.name"
   ]
  },
  {
   "cell_type": "code",
   "execution_count": null,
   "id": "bdb3dfff-c269-4076-829b-779ec2f06c1e",
   "metadata": {},
   "outputs": [],
   "source": [
    "service.backends()"
   ]
  },
  {
   "cell_type": "code",
   "execution_count": null,
   "id": "51fd8899-3299-4df3-9d36-75de963f6726",
   "metadata": {},
   "outputs": [],
   "source": [
    "backend = service.get_backend('ibm_brisbane')\n",
    "backend"
   ]
  },
  {
   "cell_type": "code",
   "execution_count": null,
   "id": "252178d1-c4eb-4c0c-b20f-f3963ae9a25a",
   "metadata": {},
   "outputs": [],
   "source": [
    "backend.name"
   ]
  },
  {
   "cell_type": "code",
   "execution_count": null,
   "id": "9ceb808c-8e06-4a47-a066-415baf5cdd83",
   "metadata": {},
   "outputs": [],
   "source": [
    "backend.name()"
   ]
  },
  {
   "cell_type": "code",
   "execution_count": null,
   "id": "c16520b4-c01c-4e26-9531-a0677c050517",
   "metadata": {},
   "outputs": [],
   "source": [
    "dir(backend)"
   ]
  },
  {
   "cell_type": "code",
   "execution_count": null,
   "id": "e21591a7-3fb5-4f07-a792-bd09ad815f2d",
   "metadata": {},
   "outputs": [],
   "source": [
    "backend.name54321()"
   ]
  },
  {
   "cell_type": "code",
   "execution_count": null,
   "id": "38b3162f-a8f6-4ac0-8ca7-c561c252fe04",
   "metadata": {},
   "outputs": [],
   "source": [
    "qiskit.__file__"
   ]
  },
  {
   "cell_type": "code",
   "execution_count": null,
   "id": "d07c7eec-6d76-4eb7-a624-311d11a334ea",
   "metadata": {},
   "outputs": [],
   "source": [
    "from qiskit.visualization.pulse_v2.device_info import OpenPulseBackendInfo\n",
    "from qiskit.providers.backend import BackendV1,BackendV2\n",
    "from qiskit.providers.models import PulseBackendConfiguration"
   ]
  },
  {
   "cell_type": "code",
   "execution_count": null,
   "id": "e5a29176-1ca0-4080-a8f8-ee1a8bbf6a68",
   "metadata": {},
   "outputs": [],
   "source": [
    "class Configuration(PulseBackendConfiguration):\n",
    "    def __init__(self):\n",
    "        self.backend_name = 'Dummy'\n",
    "        self.dt = None\n",
    "        self.u_channel_lo = []\n",
    "        self.n_qubits = 10\n",
    "\n",
    "class Defaults():\n",
    "    def __init__(self):\n",
    "        self.qubit_freq_est = []\n",
    "        self.meas_freq_est = []\n",
    "\n",
    "class DummyBackendV2(BackendV2):\n",
    "    def __init__(self):\n",
    "        configuration = Configuration()\n",
    "        super().__init__(\n",
    "            name=configuration.backend_name\n",
    "        )\n",
    "        self._configuration = configuration\n",
    "        self._defaults = Defaults()\n",
    "        \n",
    "\n",
    "    def target(self):\n",
    "        pass\n",
    "\n",
    "    def max_circuits(self):\n",
    "        pass\n",
    "\n",
    "    def _default_options(self):\n",
    "        pass\n",
    "\n",
    "    def run(self, run_input, **options):\n",
    "        pass\n",
    "\n",
    "    def configuration(self):\n",
    "        return self._configuration\n",
    "\n",
    "    def defaults(self):\n",
    "        return self._defaults"
   ]
  },
  {
   "cell_type": "code",
   "execution_count": null,
   "id": "2dcc48d1-1e93-405c-bfec-56e1b0821b0c",
   "metadata": {},
   "outputs": [],
   "source": [
    "test = DummyBackendV2()\n",
    "test.__dict__"
   ]
  },
  {
   "cell_type": "code",
   "execution_count": null,
   "id": "a4847661-31c0-4eae-a502-4e6fb0075ee2",
   "metadata": {},
   "outputs": [],
   "source": [
    "OpenPulseBackendInfo().create_from_backend(backend=test)"
   ]
  },
  {
   "cell_type": "code",
   "execution_count": null,
   "id": "e017dc6a-94ef-48a9-9a8b-891aeff663fb",
   "metadata": {},
   "outputs": [],
   "source": [
    "test.configuration().backend_name"
   ]
  },
  {
   "cell_type": "code",
   "execution_count": null,
   "id": "f62dba5f-ed03-4065-ba5d-63d36b26338c",
   "metadata": {},
   "outputs": [],
   "source": [
    "from qiskit.pulse import Schedule"
   ]
  },
  {
   "cell_type": "code",
   "execution_count": null,
   "id": "fe900abc-444b-46e1-96c2-92a44f3400a4",
   "metadata": {},
   "outputs": [],
   "source": [
    "from qiskit.visualization.pulse_v2 import interface"
   ]
  },
  {
   "cell_type": "code",
   "execution_count": null,
   "id": "6dbaf222-a5a7-4e1c-a1fa-41c1da23911a",
   "metadata": {},
   "outputs": [],
   "source": [
    "s = Schedule()\n",
    "s.draw(backend=test)"
   ]
  },
  {
   "cell_type": "code",
   "execution_count": null,
   "id": "d3e39de4-1b64-4257-9db2-f1c08bf1c49c",
   "metadata": {},
   "outputs": [],
   "source": [
    "interface.draw(program=Schedule(), backend=test)"
   ]
  },
  {
   "cell_type": "code",
   "execution_count": null,
   "id": "23ecd851-cab3-4263-8310-61919098fe3b",
   "metadata": {},
   "outputs": [],
   "source": [
    "class DummyBackendV1(BackendV1):\n",
    "    def __init__(self):\n",
    "        super().__init__(configuration=Configuration())\n",
    "    def _default_options(self):\n",
    "        pass\n",
    "    def run(self):\n",
    "        pass"
   ]
  },
  {
   "cell_type": "code",
   "execution_count": null,
   "id": "76f3596f-9367-4ca0-b7a8-6b46403e3893",
   "metadata": {},
   "outputs": [],
   "source": [
    "DummyBackendV1().name()"
   ]
  },
  {
   "cell_type": "code",
   "execution_count": null,
   "id": "96384e60-9e3d-4ade-b26d-885ea46a042a",
   "metadata": {},
   "outputs": [],
   "source": [
    "interface.draw(program=Schedule(), backend=DummyBackendV1())"
   ]
  }
 ],
 "metadata": {
  "kernelspec": {
   "display_name": "Python 3 (ipykernel)",
   "language": "python",
   "name": "python3"
  },
  "language_info": {
   "codemirror_mode": {
    "name": "ipython",
    "version": 3
   },
   "file_extension": ".py",
   "mimetype": "text/x-python",
   "name": "python",
   "nbconvert_exporter": "python",
   "pygments_lexer": "ipython3",
   "version": "3.10.8"
  }
 },
 "nbformat": 4,
 "nbformat_minor": 5
}
